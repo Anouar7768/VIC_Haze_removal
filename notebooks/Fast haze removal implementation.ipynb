{
 "cells": [
  {
   "cell_type": "markdown",
   "id": "constant-triumph",
   "metadata": {},
   "source": [
    "# Fast haze removal implementation"
   ]
  },
  {
   "cell_type": "markdown",
   "id": "mysterious-birthday",
   "metadata": {},
   "source": [
    "In this notebook, we will implement the method described in the article \"Fast Haze Removal for a Single Remote Sensing Image Using Dark Channel Prior\"."
   ]
  },
  {
   "cell_type": "markdown",
   "id": "fifty-dryer",
   "metadata": {},
   "source": [
    "## Import of libraries"
   ]
  },
  {
   "cell_type": "code",
   "execution_count": 2,
   "id": "amateur-collect",
   "metadata": {},
   "outputs": [],
   "source": [
    "import pandas as pd\n",
    "import numpy as np\n",
    "import seaborn as sns\n",
    "import holidays\n",
    "from datetime import datetime, timedelta, date\n",
    "import matplotlib.pyplot as plt"
   ]
  },
  {
   "cell_type": "markdown",
   "id": "acknowledged-bryan",
   "metadata": {},
   "source": [
    "### Import of images"
   ]
  },
  {
   "cell_type": "markdown",
   "id": "immune-rescue",
   "metadata": {},
   "source": [
    "### Algotihtm implementation"
   ]
  },
  {
   "cell_type": "code",
   "execution_count": 3,
   "id": "comparative-calculator",
   "metadata": {},
   "outputs": [
    {
     "ename": "SyntaxError",
     "evalue": "invalid character in identifier (<ipython-input-3-e3b5186933bd>, line 1)",
     "output_type": "error",
     "traceback": [
      "\u001b[0;36m  File \u001b[0;32m\"<ipython-input-3-e3b5186933bd>\"\u001b[0;36m, line \u001b[0;32m1\u001b[0m\n\u001b[0;31m    Capture d’écran 2022-12-13 à 10.35.15\u001b[0m\n\u001b[0m                  ^\u001b[0m\n\u001b[0;31mSyntaxError\u001b[0m\u001b[0;31m:\u001b[0m invalid character in identifier\n"
     ]
    }
   ],
   "source": []
  },
  {
   "cell_type": "code",
   "execution_count": null,
   "id": "dynamic-house",
   "metadata": {},
   "outputs": [],
   "source": []
  }
 ],
 "metadata": {
  "kernelspec": {
   "display_name": "Python 3",
   "language": "python",
   "name": "python3"
  },
  "language_info": {
   "codemirror_mode": {
    "name": "ipython",
    "version": 3
   },
   "file_extension": ".py",
   "mimetype": "text/x-python",
   "name": "python",
   "nbconvert_exporter": "python",
   "pygments_lexer": "ipython3",
   "version": "3.7.4"
  }
 },
 "nbformat": 4,
 "nbformat_minor": 5
}
